{
 "cells": [
  {
   "cell_type": "code",
   "execution_count": null,
   "id": "5110faa5-7c40-44ba-99ad-ab4a01e8e967",
   "metadata": {},
   "outputs": [],
   "source": [
    "num = int(input(\"Please enter the number for which you want to find the factorial: \"))\n",
    "if num == 0 or num == 1:\n",
    "    print(f\"The factorial of {num} is 1\")\n",
    "else:\n",
    "    factorial = 1\n",
    "    for i in range(1, num+1):\n",
    "        factorial *= i\n",
    "    print(f\"The factorial of {num} is {factorial}.\")\n"
   ]
  },
  {
   "cell_type": "code",
   "execution_count": null,
   "id": "63ded8aa-07b2-44f0-8deb-211e44ae1946",
   "metadata": {},
   "outputs": [],
   "source": []
  }
 ],
 "metadata": {
  "kernelspec": {
   "display_name": "Python 3 (ipykernel)",
   "language": "python",
   "name": "python3"
  },
  "language_info": {
   "codemirror_mode": {
    "name": "ipython",
    "version": 3
   },
   "file_extension": ".py",
   "mimetype": "text/x-python",
   "name": "python",
   "nbconvert_exporter": "python",
   "pygments_lexer": "ipython3",
   "version": "3.11.7"
  }
 },
 "nbformat": 4,
 "nbformat_minor": 5
}
